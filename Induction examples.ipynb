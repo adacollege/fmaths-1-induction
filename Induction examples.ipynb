{
 "cells": [
  {
   "cell_type": "markdown",
   "metadata": {
    "slideshow": {
     "slide_type": "slide"
    }
   },
   "source": [
    "# Proof by induction\n",
    "## More examples"
   ]
  },
  {
   "cell_type": "markdown",
   "metadata": {
    "slideshow": {
     "slide_type": "-"
    }
   },
   "source": [
    "### Reminder of the outline\n",
    "\n",
    "> Show that the statement $S_n$ is true for all $n\\in\\mathbb{N}$.\n",
    "\n",
    "1. Show that $S_1$ is true.\n",
    "2. Assume $S_k$ is true (the induction hypothesis), and\n",
    "3. use it to show $S_{k+1}$ is true.\n",
    "4. Conclude \"so the statement is true for $1$, and if it is true for $k$, then it is true for $k+1$, so the the statement is true for all $n$ by mathematical induction.\" "
   ]
  },
  {
   "cell_type": "markdown",
   "metadata": {
    "slideshow": {
     "slide_type": "subslide"
    }
   },
   "source": [
    "> Show that $4^n+6n-1$ is divisible by $9$ for all $n\\in\\mathbb{N}$."
   ]
  },
  {
   "cell_type": "code",
   "execution_count": 11,
   "metadata": {},
   "outputs": [
    {
     "data": {
      "text/plain": [
       "True"
      ]
     },
     "execution_count": 11,
     "metadata": {},
     "output_type": "execute_result"
    }
   ],
   "source": [
    "all([(4**k+6*k-1)%9==0 for k in range(1,10000)])"
   ]
  },
  {
   "cell_type": "markdown",
   "metadata": {
    "slideshow": {
     "slide_type": "subslide"
    }
   },
   "source": [
    "> Show that the sum of the first $n$ odd numbers is $n^2$."
   ]
  },
  {
   "cell_type": "markdown",
   "metadata": {
    "slideshow": {
     "slide_type": "fragment"
    }
   },
   "source": [
    "Hint: What's the formula for the $n$th odd number?"
   ]
  },
  {
   "cell_type": "markdown",
   "metadata": {
    "slideshow": {
     "slide_type": "subslide"
    }
   },
   "source": [
    "> Show that $n^5-n$ is divisible by $5$ for all $n\\in\\mathbb{N}$."
   ]
  },
  {
   "cell_type": "markdown",
   "metadata": {
    "slideshow": {
     "slide_type": "fragment"
    }
   },
   "source": [
    "You might need the binomial expansion."
   ]
  },
  {
   "cell_type": "markdown",
   "metadata": {
    "slideshow": {
     "slide_type": "subslide"
    }
   },
   "source": [
    "> Show that $1^3+2^3+3^3+\\cdots+n^3=(1+2+3+\\cdots+n)^2$ "
   ]
  },
  {
   "cell_type": "markdown",
   "metadata": {
    "slideshow": {
     "slide_type": "fragment"
    }
   },
   "source": [
    "Hint: write down the formula for the sum of the first $n$ integers. Square it."
   ]
  },
  {
   "cell_type": "code",
   "execution_count": 13,
   "metadata": {},
   "outputs": [
    {
     "name": "stdout",
     "output_type": "stream",
     "text": [
      "I don't know. Check 4\n",
      "I don't know. Check 3\n",
      "I don't know. Check 2\n",
      "I don't know. Check 1\n",
      "True for 1\n"
     ]
    },
    {
     "data": {
      "text/plain": [
       "True"
      ]
     },
     "execution_count": 13,
     "metadata": {},
     "output_type": "execute_result"
    }
   ],
   "source": [
    "def statement(n):\n",
    "    if (n==1):\n",
    "        print(\"True for 1\")\n",
    "        return True\n",
    "    else:\n",
    "        print(\"I don't know. Check {}\".format(n-1))\n",
    "        return statement(n-1)\n",
    "statement(5)"
   ]
  }
 ],
 "metadata": {
  "anaconda-cloud": {},
  "celltoolbar": "Slideshow",
  "hide_input": false,
  "kernelspec": {
   "display_name": "Python 3",
   "language": "python",
   "name": "python3"
  },
  "language_info": {
   "codemirror_mode": {
    "name": "ipython",
    "version": 3
   },
   "file_extension": ".py",
   "mimetype": "text/x-python",
   "name": "python",
   "nbconvert_exporter": "python",
   "pygments_lexer": "ipython3",
   "version": "3.5.2"
  }
 },
 "nbformat": 4,
 "nbformat_minor": 2
}
