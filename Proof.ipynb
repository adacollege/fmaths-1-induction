{
 "cells": [
  {
   "cell_type": "markdown",
   "metadata": {
    "slideshow": {
     "slide_type": "slide"
    }
   },
   "source": [
    "# GCSE Proof\n",
    "Usually involves doing algebra on an expression until you get another expression. Often to show divisibility by bringing out a particular factor."
   ]
  },
  {
   "cell_type": "markdown",
   "metadata": {
    "slideshow": {
     "slide_type": "slide"
    }
   },
   "source": [
    "## Example\n",
    "Prove that $(3n+1)^2-(3n-1)^2$ is divisible by $6$ for all integers $n$."
   ]
  },
  {
   "cell_type": "markdown",
   "metadata": {
    "slideshow": {
     "slide_type": "fragment"
    }
   },
   "source": [
    "## Proof"
   ]
  },
  {
   "cell_type": "markdown",
   "metadata": {
    "slideshow": {
     "slide_type": "fragment"
    }
   },
   "source": [
    "$$\n",
    "\\begin{aligned}\n",
    "(3n+1)^2-(3n-1)^2&=9n^2+6n+1-(9n^2-6n+1)\\\\\n",
    "&=12n\\\\\n",
    "&=6(2n)\\text{ which is divisible by }6\n",
    "\\end{aligned}\n",
    "$$"
   ]
  },
  {
   "cell_type": "markdown",
   "metadata": {
    "slideshow": {
     "slide_type": "slide"
    }
   },
   "source": [
    "## Example\n",
    "Prove algebraically that the sum of the squares of any two consecutive numbers always leaves a remainder of $1$ when divided by $4$."
   ]
  },
  {
   "cell_type": "markdown",
   "metadata": {
    "slideshow": {
     "slide_type": "subslide"
    }
   },
   "source": [
    "## Proof\n",
    "Let the two consecutive numbers be $n$ and $n+1$.\n",
    "$$\\begin{aligned}\n",
    "\\text{The sum of the squares }&=n^2+(n+1)^2\\\\\n",
    "&=n^2+n^2+2n+1\\\\\n",
    "&=2n^2+2n+1\\\\\n",
    "&=2(n^2+n)+1\n",
    "\\end{aligned}\n",
    "$$\n",
    "This is certainly odd (one more than a multiple of $2$). It only remains to show that $n^2+n$ is itself even."
   ]
  },
  {
   "cell_type": "markdown",
   "metadata": {
    "slideshow": {
     "slide_type": "subslide"
    }
   },
   "source": [
    "Suppose $n$ is even, then $n^2+n$ is trivially even.\n",
    "\n",
    "So suppose $n$ is odd. Then $n=2m+1$ and\n",
    "$$\\begin{aligned}\n",
    "n^2+n&=(2m+1)^2+2m+1\\\\\n",
    "&=4m^2+4m+1+2m+1\\\\\n",
    "&=4m^2+6m+2\\\\\n",
    "&=2(m^2+3m+1)\\text{ which is even}\n",
    "\\end{aligned}\n",
    "$$\n",
    "\n",
    "Hence $n^2+n$ is always even, so the sum of the two squares $=2(n^2+n)+1=2(2k)+1=4k+1$ which is one more than a multiple of $4$."
   ]
  },
  {
   "cell_type": "markdown",
   "metadata": {
    "slideshow": {
     "slide_type": "slide"
    }
   },
   "source": [
    "# Proof by induction"
   ]
  },
  {
   "cell_type": "markdown",
   "metadata": {
    "slideshow": {
     "slide_type": "fragment"
    }
   },
   "source": [
    "## Example\n",
    "Prove that $\\sum_{r=1}^{n}r=\\frac{n}{2}(n+1)$ for any positive integer $n$."
   ]
  },
  {
   "cell_type": "markdown",
   "metadata": {},
   "source": [
    "Let $S(n)$ be the statement $\\sum_{r=1}^{n}r=\\frac{n}{2}(n+1)$\n",
    "\n",
    "When $n=1$, $1=\\frac{1}{2}(1+1)$ so $S(1)$ is true.\n",
    "\n",
    "Assume for the induction hypothesis that $S(n)$ is true."
   ]
  },
  {
   "cell_type": "markdown",
   "metadata": {
    "slideshow": {
     "slide_type": "subslide"
    }
   },
   "source": [
    "Then $S(n+1)$ is $\\sum_{r=1}^{n+1}r=\\dfrac{n+1}{2}(n+2)$\n",
    "\n",
    "$$\\begin{aligned} \n",
    "\\text{LHS}&=\\sum_{r=1}^{n+1}r\\\\\n",
    "&=\\sum_{r=1}^{n}r+(n+1)\\\\\n",
    "&=\\dfrac{n}{2}(n+1)+1(n+1) \\text{ by the induction hypothesis}\\\\\n",
    "&=(n+1)(\\dfrac{n}{2}+1)=(n+1)\\frac{1}{2}(n+2)=\\text{RHS}\n",
    "\\end{aligned}$$"
   ]
  },
  {
   "cell_type": "markdown",
   "metadata": {
    "slideshow": {
     "slide_type": "subslide"
    }
   },
   "source": [
    "So, the statement is true for $n=1$, and *if* it's true for $n$ *then* it's true for $n+1$ so the statement follows for all positive $n$ by mathematical induction."
   ]
  },
  {
   "cell_type": "markdown",
   "metadata": {},
   "source": [
    "$S(1) \\wedge (S(n)\\implies S(n+1)) \\therefore S(n)\\forall n\\in \\textrm{Z}^{+}$."
   ]
  },
  {
   "cell_type": "markdown",
   "metadata": {
    "slideshow": {
     "slide_type": "slide"
    }
   },
   "source": [
    "## Example\n",
    "Prove that $f(n)=5^n+8n+3$ is divisble by $4$ for all positive integers $n$"
   ]
  },
  {
   "cell_type": "markdown",
   "metadata": {
    "slideshow": {
     "slide_type": "slide"
    }
   },
   "source": [
    "## Proof\n",
    "$f(1)=5+8+3=16$ which is divisible by $4$, so the statement is true when $n=1$.\n",
    "\n",
    "Assume that $f(m)$ is divisible by $4$ for some $m$.\n",
    "\n",
    "We want to show that $f(m+1)$ is also divisible by $4$.\n",
    "\n",
    "It is enough to show that $f(m+1)-f(m)$ is divisible by $4$.\n",
    "$$\\begin{aligned}\n",
    "f(m+1)-f(m)&=5^{m+1}+8(m+1)+3-(5^m+8m+3)\\\\\n",
    "&=5\\times5^m+8m+11-5^m-8m-3\\\\\n",
    "&=4\\times5^m+8\\\\\n",
    "&=4(5^m+2)\n",
    "\\end{aligned}\n",
    "$$\n",
    "\n",
    "So the statement is true when $n=1$, and if it's true for $n=m$ we've shown it's true for $n=m+1$, hence the statement is true for all positive integers by mathematical induction."
   ]
  },
  {
   "cell_type": "markdown",
   "metadata": {
    "slideshow": {
     "slide_type": "slide"
    }
   },
   "source": [
    "## Example\n",
    "$$f(n)=2^n+6^n$$\n",
    "\n",
    "a) Show that $f(k+1)=6f(k)-4(2^k)$.\n",
    "\n",
    "b) Hence prove that $f(n)$ is divisble by $8$ for all positive integers, $n$."
   ]
  },
  {
   "cell_type": "markdown",
   "metadata": {
    "slideshow": {
     "slide_type": "subslide"
    }
   },
   "source": [
    "## Solution\n",
    "a)\n",
    "$$\\begin{aligned}\n",
    "6f(k)-4(2^k)&=6(2^k+6^k)-4(2^k)\\\\\n",
    "&=3\\times2^{k+1}+6^{k+1}-2\\times2^{k+1}\\\\\n",
    "&=2^{k+1}+6^{k+1}\\\\\n",
    "&=f(k+1)\\text{ as required}\n",
    "\\end{aligned}\n",
    "$$"
   ]
  },
  {
   "cell_type": "markdown",
   "metadata": {
    "slideshow": {
     "slide_type": "subslide"
    }
   },
   "source": [
    "b)\n",
    "$f(1)=2+6=8$ so the statement is true for $n=1$.\n",
    "\n",
    "Assume that $f(k)$ is divisible by $8$. We want to show that $f(k+1)$ is too.\n",
    "\n",
    "But $f(k+1)=6f(k)-4(2^k)$ by part (a).\n",
    "\n",
    "If $f(k)$ is divisble by $8$ then $6f(k)$ is trivially.\n",
    "\n",
    "And $4(2^k)=4\\times2\\times2^{k-1}=8\\times2^{k-1}$ is divisible by $8$ also.\n",
    "\n",
    "So $f(k+1)$ is the difference of two expressions each divisible by $8$ and hence is divisible by 8 itself."
   ]
  },
  {
   "cell_type": "markdown",
   "metadata": {
    "slideshow": {
     "slide_type": "subslide"
    }
   },
   "source": [
    "So we have shown that $f(1)$ is divisible by 8, and that if $f(k)$ is then so is $f(k+1)$, so $f(n)$ is divisible by $8$ for all positive integers, $n$, by mathematical induction."
   ]
  }
 ],
 "metadata": {
  "anaconda-cloud": {},
  "celltoolbar": "Slideshow",
  "hide_input": false,
  "kernelspec": {
   "display_name": "Python 3",
   "language": "python",
   "name": "python3"
  },
  "language_info": {
   "codemirror_mode": {
    "name": "ipython",
    "version": 3
   },
   "file_extension": ".py",
   "mimetype": "text/x-python",
   "name": "python",
   "nbconvert_exporter": "python",
   "pygments_lexer": "ipython3",
   "version": "3.5.2"
  },
  "livereveal": {
   "theme": "ada"
  }
 },
 "nbformat": 4,
 "nbformat_minor": 1
}
