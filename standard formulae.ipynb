{
 "cells": [
  {
   "cell_type": "markdown",
   "metadata": {},
   "source": [
    "## The formula for $r^2$"
   ]
  },
  {
   "cell_type": "markdown",
   "metadata": {},
   "source": [
    "Prove by induction that $$\\sum_{r=1}^{n}r^2=\\frac{1}{6}n(n+1)(2n+1)$$"
   ]
  },
  {
   "cell_type": "markdown",
   "metadata": {},
   "source": [
    "### Proof\n",
    "\n",
    "Let $S(n)$ be the statement $$\\sum_{r=1}^{n}r^2=\\frac{1}{6}n(n+1)(2n+1)$$"
   ]
  },
  {
   "cell_type": "markdown",
   "metadata": {},
   "source": [
    "For $S(1)$, $$LHS=1\\\\RHS=\\frac{1}{6}1(2)(3)=1=LHS$$"
   ]
  },
  {
   "cell_type": "markdown",
   "metadata": {},
   "source": [
    "Assume that $S(k)$ is true, so\n",
    "$$\\sum_{r=1}^{k}r^2=\\frac{1}{6}k(k+1)(2k+1)\\tag{1}$$"
   ]
  },
  {
   "cell_type": "markdown",
   "metadata": {},
   "source": [
    "For $S(k+1)$, we want to show that\n",
    "$$\\sum_{r=1}^{k+1}r^2=\\frac{1}{6}(k+1)(k+2)(2k+3)$$"
   ]
  },
  {
   "cell_type": "markdown",
   "metadata": {},
   "source": [
    "$$\\begin{aligned}LHS &=\\sum_{r=1}^{k}r^2 + (k+1)^2\\\\\n",
    "&=\\frac{1}{6}k(k+1)(2k+1)+(k+1)^2\\,\\,\\, \\text{by equation (1)}\\\\\n",
    "&=\\frac{1}{6}(k+1)(k(2k+1)+6(k+1))\\\\\n",
    "&=\\frac{1}{6}(k+1)(2k^2+k+6k+6)\\\\\n",
    "&=\\frac{1}{6}(k+1)(2k^2+7k+6)\\\\\n",
    "&=\\frac{1}{6}(k+1)(k+2)(2k+3)\\\\\n",
    "&=RHS\n",
    "\\end{aligned}$$"
   ]
  },
  {
   "cell_type": "markdown",
   "metadata": {},
   "source": [
    "So the statement is true when $n=1$ and we've shown that if it's true for $n=k$ then it's true for $n=k+1$, so it follows that the statement is true for all $n\\in\\mathbb{N}$ by mathematical induction."
   ]
  },
  {
   "cell_type": "markdown",
   "metadata": {},
   "source": [
    "## The formula for $r^3$"
   ]
  },
  {
   "cell_type": "markdown",
   "metadata": {},
   "source": [
    "Prove by induction that $$\\sum_{r=1}^{n}r^3=\\frac{1}{4}n^2(n+1)^2$$"
   ]
  },
  {
   "cell_type": "markdown",
   "metadata": {},
   "source": [
    "### Proof\n",
    "\n",
    "Let $S(n)$ be the statement $$\\sum_{r=1}^{n}r^3=\\frac{1}{4}n^2(n+1)^2$$"
   ]
  },
  {
   "cell_type": "markdown",
   "metadata": {},
   "source": [
    "For $S(1)$, $$LHS=1^3=1\\\\RHS=\\frac{1}{4}1^2(2)^2=\\frac{4}{4}=1$$"
   ]
  },
  {
   "cell_type": "markdown",
   "metadata": {},
   "source": [
    "Assuming that $S(k)$ is true,\n",
    "$$\\sum_{r=1}^{k}r^3=\\frac{1}{4}k^2(k+1)^2\\tag{1}$$"
   ]
  },
  {
   "cell_type": "markdown",
   "metadata": {},
   "source": [
    "We want to show $S(k+1)$,\n",
    "\n",
    "$$\\sum_{r=1}^{k+1}r^3=\\frac{1}{4}(k+1)^2(k+2)^2$$"
   ]
  },
  {
   "cell_type": "markdown",
   "metadata": {},
   "source": [
    "$$\\begin{aligned}\n",
    "LHS&=\\sum_{r=1}^{k}r^3+(k+1)^3\\\\\n",
    "&=\\frac{1}{4}k^2(k+1)^2+(k+1)^3\\,\\,\\,\\text{by (1)}\\\\\n",
    "&=\\frac{1}{4}(k+1)^2\\left(k^2+4(k+1)\\right)\\\\\n",
    "&=\\frac{1}{4}(k+1)^2\\left(k^2+4k+4)\\right)\\\\\n",
    "&=\\frac{1}{4}(k+1)^2(k+2)^2\\\\\n",
    "&=RHS\n",
    "\\end{aligned}$$"
   ]
  }
 ],
 "metadata": {
  "kernelspec": {
   "display_name": "Python 3",
   "language": "python",
   "name": "python3"
  },
  "language_info": {
   "codemirror_mode": {
    "name": "ipython",
    "version": 3
   },
   "file_extension": ".py",
   "mimetype": "text/x-python",
   "name": "python",
   "nbconvert_exporter": "python",
   "pygments_lexer": "ipython3",
   "version": "3.5.2"
  }
 },
 "nbformat": 4,
 "nbformat_minor": 2
}
